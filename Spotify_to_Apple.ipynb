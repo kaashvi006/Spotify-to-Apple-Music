{
  "nbformat": 4,
  "nbformat_minor": 0,
  "metadata": {
    "colab": {
      "provenance": []
    },
    "kernelspec": {
      "name": "python3",
      "display_name": "Python 3"
    },
    "language_info": {
      "name": "python"
    }
  },
  "cells": [
    {
      "cell_type": "code",
      "source": [
        "import json\n",
        "import requests\n",
        "from urllib.parse import quote\n",
        "import spotipy\n",
        "from spotipy.oauth2 import SpotifyClientCredentials\n",
        "\n",
        "SPOTIPY_CLIENT_ID = \"your_spotify_client_id\"\n",
        "SPOTIPY_CLIENT_SECRET = \"your_spotify_client_secret\"\n",
        "\n",
        "sp = spotipy.Spotify(auth_manager=SpotifyClientCredentials(\n",
        "    client_id=SPOTIPY_CLIENT_ID,\n",
        "    client_secret=SPOTIPY_CLIENT_SECRET\n",
        "))\n",
        "\n",
        "playlist_link = \"your_spotify_playlist_link\"\n",
        "playlist_URI = playlist_link.split(\"/\")[-1].split(\"?\")[0]\n",
        "\n",
        "results = sp.playlist_tracks(playlist_URI)\n",
        "tracks = []\n",
        "\n",
        "for item in results['items']:\n",
        "    track = item['track']\n",
        "    if track is None: continue\n",
        "    name = track['name']\n",
        "    artist = track['artists'][0]['name']\n",
        "    tracks.append({'name': name, 'artist': artist})\n",
        "\n",
        "print(f\"🎧 Extracted {len(tracks)} tracks from Spotify.\\n\")\n",
        "\n",
        "apple_links = []\n",
        "errors = 0\n",
        "\n",
        "for t in tracks:\n",
        "    name, artist = t['name'], t['artist']\n",
        "\n",
        "    if not name or not artist:\n",
        "        print(f\"Skipping invalid track: {t}\")\n",
        "        continue\n",
        "\n",
        "    query = quote(f\"{name} {artist}\")\n",
        "    url = f\"https://itunes.apple.com/search?term={query}&media=music&limit=1\"\n",
        "\n",
        "    try:\n",
        "        response = requests.get(url)\n",
        "        data = response.json()\n",
        "        if data['resultCount'] > 0:\n",
        "            track_url = data['results'][0]['trackViewUrl']\n",
        "            print(f\"Found on Apple Music: {name} by {artist}\")\n",
        "            apple_links.append({\n",
        "                'name': name,\n",
        "                'artist': artist,\n",
        "                'apple_music_url': track_url\n",
        "            })\n",
        "        else:\n",
        "            print(f\"Not found: {name} by {artist}\")\n",
        "            errors += 1\n",
        "    except Exception as e:\n",
        "        print(f\"API error: {e}\")\n",
        "        errors += 1\n",
        "\n",
        "with open(\"apple_music_links.json\", \"w\") as f:\n",
        "    json.dump(apple_links, f, indent=2)\n",
        "\n",
        "with open(\"apple_music_urls.txt\", \"w\") as f:\n",
        "    for track in apple_links:\n",
        "        f.write(track['apple_music_url'] + \"\\n\")\n",
        "\n",
        "print(f\"\\n Done! Found {len(apple_links)} Apple Music links, {errors} errors.\")\n",
        "print(\" Saved to 'apple_music_links.json' and 'apple_music_urls.txt'\")\n",
        "\n",
        "from google.colab import files\n",
        "\n",
        "files.download(\"apple_music_links.json\")\n",
        "files.download(\"apple_music_urls.txt\")\n",
        "\n"
      ],
      "metadata": {
        "colab": {
          "base_uri": "https://localhost:8080/",
          "height": 468
        },
        "id": "9k0zYZojQw69",
        "outputId": "e427a931-3f41-43fb-d27b-8680b2952e4e"
      },
      "execution_count": 12,
      "outputs": [
        {
          "output_type": "stream",
          "name": "stdout",
          "text": [
            "🎧 Extracted 21 tracks from Spotify.\n",
            "\n",
            "Found on Apple Music: Best Part of Me (feat. YEBBA) by Ed Sheeran\n",
            "Found on Apple Music: Perfect by Ed Sheeran\n",
            "Found on Apple Music: You Are The Reason by Calum Scott\n",
            "Found on Apple Music: Make You Feel My Love by Adele\n",
            "Found on Apple Music: Tennessee Whiskey by Chris Stapleton\n",
            "Found on Apple Music: Can't Help Falling in Love by Elvis Presley\n",
            "Found on Apple Music: Falling In Love by Cigarettes After Sex\n",
            "Found on Apple Music: The Night We Met by Lord Huron\n",
            "Found on Apple Music: Sway by Michael Bublé\n",
            "Found on Apple Music: Everything by Michael Bublé\n",
            "Found on Apple Music: Photograph by Ed Sheeran\n",
            "Found on Apple Music: The Joker And The Queen (feat. Taylor Swift) by Ed Sheeran\n",
            "Found on Apple Music: Until I Found You by Stephen Sanchez\n",
            "Found on Apple Music: Yellow by Coldplay\n",
            "Found on Apple Music: Magical by Ed Sheeran\n",
            "Found on Apple Music: Love by Lana Del Rey\n",
            "Found on Apple Music: This Town by Niall Horan\n",
            "Found on Apple Music: If We Have Each Other by Alec Benjamin\n",
            "Found on Apple Music: Stand By Me by Ben E. King\n",
            "Found on Apple Music: You & I by One Direction\n",
            "Found on Apple Music: To Die For by Sam Smith\n",
            "\n",
            " Done! Found 21 Apple Music links, 0 errors.\n",
            " Saved to 'apple_music_links.json' and 'apple_music_urls.txt'\n"
          ]
        },
        {
          "output_type": "display_data",
          "data": {
            "text/plain": [
              "<IPython.core.display.Javascript object>"
            ],
            "application/javascript": [
              "\n",
              "    async function download(id, filename, size) {\n",
              "      if (!google.colab.kernel.accessAllowed) {\n",
              "        return;\n",
              "      }\n",
              "      const div = document.createElement('div');\n",
              "      const label = document.createElement('label');\n",
              "      label.textContent = `Downloading \"${filename}\": `;\n",
              "      div.appendChild(label);\n",
              "      const progress = document.createElement('progress');\n",
              "      progress.max = size;\n",
              "      div.appendChild(progress);\n",
              "      document.body.appendChild(div);\n",
              "\n",
              "      const buffers = [];\n",
              "      let downloaded = 0;\n",
              "\n",
              "      const channel = await google.colab.kernel.comms.open(id);\n",
              "      // Send a message to notify the kernel that we're ready.\n",
              "      channel.send({})\n",
              "\n",
              "      for await (const message of channel.messages) {\n",
              "        // Send a message to notify the kernel that we're ready.\n",
              "        channel.send({})\n",
              "        if (message.buffers) {\n",
              "          for (const buffer of message.buffers) {\n",
              "            buffers.push(buffer);\n",
              "            downloaded += buffer.byteLength;\n",
              "            progress.value = downloaded;\n",
              "          }\n",
              "        }\n",
              "      }\n",
              "      const blob = new Blob(buffers, {type: 'application/binary'});\n",
              "      const a = document.createElement('a');\n",
              "      a.href = window.URL.createObjectURL(blob);\n",
              "      a.download = filename;\n",
              "      div.appendChild(a);\n",
              "      a.click();\n",
              "      div.remove();\n",
              "    }\n",
              "  "
            ]
          },
          "metadata": {}
        },
        {
          "output_type": "display_data",
          "data": {
            "text/plain": [
              "<IPython.core.display.Javascript object>"
            ],
            "application/javascript": [
              "download(\"download_62216a64-b3c8-463b-8e6a-a040f3cd2d0c\", \"apple_music_links.json\", 3689)"
            ]
          },
          "metadata": {}
        },
        {
          "output_type": "display_data",
          "data": {
            "text/plain": [
              "<IPython.core.display.Javascript object>"
            ],
            "application/javascript": [
              "\n",
              "    async function download(id, filename, size) {\n",
              "      if (!google.colab.kernel.accessAllowed) {\n",
              "        return;\n",
              "      }\n",
              "      const div = document.createElement('div');\n",
              "      const label = document.createElement('label');\n",
              "      label.textContent = `Downloading \"${filename}\": `;\n",
              "      div.appendChild(label);\n",
              "      const progress = document.createElement('progress');\n",
              "      progress.max = size;\n",
              "      div.appendChild(progress);\n",
              "      document.body.appendChild(div);\n",
              "\n",
              "      const buffers = [];\n",
              "      let downloaded = 0;\n",
              "\n",
              "      const channel = await google.colab.kernel.comms.open(id);\n",
              "      // Send a message to notify the kernel that we're ready.\n",
              "      channel.send({})\n",
              "\n",
              "      for await (const message of channel.messages) {\n",
              "        // Send a message to notify the kernel that we're ready.\n",
              "        channel.send({})\n",
              "        if (message.buffers) {\n",
              "          for (const buffer of message.buffers) {\n",
              "            buffers.push(buffer);\n",
              "            downloaded += buffer.byteLength;\n",
              "            progress.value = downloaded;\n",
              "          }\n",
              "        }\n",
              "      }\n",
              "      const blob = new Blob(buffers, {type: 'application/binary'});\n",
              "      const a = document.createElement('a');\n",
              "      a.href = window.URL.createObjectURL(blob);\n",
              "      a.download = filename;\n",
              "      div.appendChild(a);\n",
              "      a.click();\n",
              "      div.remove();\n",
              "    }\n",
              "  "
            ]
          },
          "metadata": {}
        },
        {
          "output_type": "display_data",
          "data": {
            "text/plain": [
              "<IPython.core.display.Javascript object>"
            ],
            "application/javascript": [
              "download(\"download_31da2425-d122-467e-a0c6-7ba3e4a80f0f\", \"apple_music_urls.txt\", 1698)"
            ]
          },
          "metadata": {}
        }
      ]
    }
  ]
}
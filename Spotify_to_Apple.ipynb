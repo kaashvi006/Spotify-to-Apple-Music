{
  "nbformat": 4,
  "nbformat_minor": 0,
  "metadata": {
    "colab": {
      "provenance": []
    },
    "kernelspec": {
      "name": "python3",
      "display_name": "Python 3"
    },
    "language_info": {
      "name": "python"
    }
  },
  "cells": [
    {
      "cell_type": "code",
      "source": [
        "!pip install spotipy"
      ],
      "metadata": {
        "colab": {
          "base_uri": "https://localhost:8080/"
        },
        "id": "9k0zYZojQw69",
        "outputId": "035f82b5-36e5-4338-f63a-7b634e0141a4"
      },
      "execution_count": 9,
      "outputs": [
        {
          "output_type": "stream",
          "name": "stdout",
          "text": [
            "Requirement already satisfied: spotipy in /usr/local/lib/python3.11/dist-packages (2.25.1)\n",
            "Requirement already satisfied: redis>=3.5.3 in /usr/local/lib/python3.11/dist-packages (from spotipy) (6.2.0)\n",
            "Requirement already satisfied: requests>=2.25.0 in /usr/local/lib/python3.11/dist-packages (from spotipy) (2.32.3)\n",
            "Requirement already satisfied: urllib3>=1.26.0 in /usr/local/lib/python3.11/dist-packages (from spotipy) (2.4.0)\n",
            "Requirement already satisfied: charset-normalizer<4,>=2 in /usr/local/lib/python3.11/dist-packages (from requests>=2.25.0->spotipy) (3.4.2)\n",
            "Requirement already satisfied: idna<4,>=2.5 in /usr/local/lib/python3.11/dist-packages (from requests>=2.25.0->spotipy) (3.10)\n",
            "Requirement already satisfied: certifi>=2017.4.17 in /usr/local/lib/python3.11/dist-packages (from requests>=2.25.0->spotipy) (2025.6.15)\n"
          ]
        }
      ]
    },
    {
      "cell_type": "code",
      "source": [
        "import json\n",
        "import requests\n",
        "from urllib.parse import quote\n",
        "import spotipy\n",
        "from spotipy.oauth2 import SpotifyClientCredentials\n",
        "\n",
        "SPOTIPY_CLIENT_ID = \"your_spotify_client_id\"\n",
        "SPOTIPY_CLIENT_SECRET = \"your_spotify_client_secret\"\n",
        "\n",
        "sp = spotipy.Spotify(auth_manager=SpotifyClientCredentials(\n",
        "    client_id=SPOTIPY_CLIENT_ID,\n",
        "    client_secret=SPOTIPY_CLIENT_SECRET\n",
        "))\n",
        "input_link=input(\"Enter the spotify playlist link: \")\n",
        "playlist_link = input_link\n",
        "playlist_URI = playlist_link.split(\"/\")[-1].split(\"?\")[0]\n",
        "\n",
        "results = sp.playlist_tracks(playlist_URI)\n",
        "tracks = []\n",
        "\n",
        "for item in results['items']:\n",
        "    track = item['track']\n",
        "    if track is None: continue\n",
        "    name = track['name']\n",
        "    artist = track['artists'][0]['name']\n",
        "    tracks.append({'name': name, 'artist': artist})\n",
        "\n",
        "print(f\"🎧 Extracted {len(tracks)} tracks from Spotify.\\n\")\n",
        "\n",
        "apple_links = []\n",
        "errors = 0\n",
        "\n",
        "for t in tracks:\n",
        "    name, artist = t['name'], t['artist']\n",
        "\n",
        "    if not name or not artist:\n",
        "        print(f\"Skipping invalid track: {t}\")\n",
        "        continue\n",
        "\n",
        "    query = quote(f\"{name} {artist}\")\n",
        "    url = f\"https://itunes.apple.com/search?term={query}&media=music&limit=1\"\n",
        "\n",
        "    try:\n",
        "        response = requests.get(url)\n",
        "        data = response.json()\n",
        "        if data['resultCount'] > 0:\n",
        "            track_url = data['results'][0]['trackViewUrl']\n",
        "            print(f\"Found on Apple Music: {name} by {artist}\")\n",
        "            apple_links.append({\n",
        "                'name': name,\n",
        "                'artist': artist,\n",
        "                'apple_music_url': track_url\n",
        "            })\n",
        "        else:\n",
        "            print(f\"Not found: {name} by {artist}\")\n",
        "            errors += 1\n",
        "    except Exception as e:\n",
        "        print(f\"API error: {e}\")\n",
        "        errors += 1\n",
        "\n",
        "with open(\"apple_music_links.json\", \"w\") as f:\n",
        "    json.dump(apple_links, f, indent=2)\n",
        "\n",
        "with open(\"apple_music_urls.txt\", \"w\") as f:\n",
        "    for track in apple_links:\n",
        "        f.write(track['apple_music_url'] + \"\\n\")\n",
        "\n",
        "print(f\"\\n Done! Found {len(apple_links)} Apple Music links, {errors} errors.\")\n",
        "print(\" Saved to 'apple_music_links.json' and 'apple_music_urls.txt'\")\n",
        "\n",
        "from google.colab import files\n",
        "\n",
        "files.download(\"apple_music_links.json\")\n",
        "files.download(\"apple_music_urls.txt\")\n",
        "\n"
      ],
      "metadata": {
        "colab": {
          "base_uri": "https://localhost:8080/",
          "height": 780
        },
        "id": "oY4vdSmGiOAQ",
        "outputId": "7e480cf1-baa3-479e-d56e-3d5606679b10"
      },
      "execution_count": 10,
      "outputs": [
        {
          "output_type": "stream",
          "name": "stdout",
          "text": [
            "Enter the spotify playlist link: https://open.spotify.com/playlist/7fG1ksq06ecNY600U6nSSe?si=63c05b0633714cc6\n",
            "🎧 Extracted 38 tracks from Spotify.\n",
            "\n",
            "Found on Apple Music: Tere Hi Hum by Prateek Kuhad\n",
            "Found on Apple Music: Tum Se Hi by Pritam\n",
            "Found on Apple Music: Humraah by Sachet Tandon\n",
            "Found on Apple Music: Jadoo by Akshath\n",
            "Found on Apple Music: Pashmina by Amit Trivedi\n",
            "Found on Apple Music: Aahista by Jonita Gandhi\n",
            "Found on Apple Music: Theher Ja by Armaan Malik\n",
            "Found on Apple Music: Tum Mile by Pritam\n",
            "Found on Apple Music: Afeemi by Sachin-Jigar\n",
            "Found on Apple Music: Khudaya Khair by Pritam\n",
            "Found on Apple Music: Dhokha Dhadi by Arijit Singh\n",
            "Found on Apple Music: Khayaal by Abhijeet Srivastava\n",
            "Found on Apple Music: Aahatein by Samyak Prasana\n",
            "Found on Apple Music: Saathiyaa by Shreya Ghoshal\n",
            "Found on Apple Music: Mere Bina by Pritam\n",
            "Found on Apple Music: Co2 by Prateek Kuhad\n",
            "Found on Apple Music: Jo Tum Mere Ho by Anuv Jain\n",
            "Found on Apple Music: Soulmate by Badshah\n",
            "Found on Apple Music: O Bekhabar by Pritam\n",
            "Found on Apple Music: Ishq Sufiyana (Male) by Vishal-Shekhar\n",
            "Found on Apple Music: Main Rahoon Ya Na Rahoon by Amaal Mallik\n",
            "Found on Apple Music: Te Amo (Duet) by Pritam\n",
            "Found on Apple Music: Lae Dooba by Sunidhi Chauhan\n",
            "Found on Apple Music: With You by AP Dhillon\n",
            "Found on Apple Music: Yeh Fitoor Mera by Amit Trivedi\n",
            "Found on Apple Music: Darkhaast (feat. Arijit Singh, Sunidhi Chauhan) by Mithoon\n",
            "Found on Apple Music: Tu Hai by Darshan Raval\n",
            "Found on Apple Music: Woh Lamhe Woh Baatein - From \"Zeher\" by Atif Aslam\n",
            "Found on Apple Music: Aadat - From \"Kalyug\" by Atif Aslam\n",
            "Found on Apple Music: Tera Mera Rishta by Mustafa Zahid\n",
            "Found on Apple Music: Sapna Jahan (From \"Brothers\") by Ajay-Atul\n",
            "Found on Apple Music: Jaise Mera Tu by Sachin-Jigar\n",
            "Found on Apple Music: Fakira by Vishal-Shekhar\n",
            "Found on Apple Music: Sooiyan by Amit Trivedi\n",
            "Found on Apple Music: Sanam Re by Mithoon\n",
            "Found on Apple Music: Tainu Khabar Nahi - From \"Munjya\" by Sachin-Jigar\n",
            "Found on Apple Music: Tera Naam Doon by Atif Aslam\n",
            "Found on Apple Music: Rang Jo Lagyo by Atif Aslam\n",
            "\n",
            " Done! Found 38 Apple Music links, 0 errors.\n",
            " Saved to 'apple_music_links.json' and 'apple_music_urls.txt'\n"
          ]
        },
        {
          "output_type": "display_data",
          "data": {
            "text/plain": [
              "<IPython.core.display.Javascript object>"
            ],
            "application/javascript": [
              "\n",
              "    async function download(id, filename, size) {\n",
              "      if (!google.colab.kernel.accessAllowed) {\n",
              "        return;\n",
              "      }\n",
              "      const div = document.createElement('div');\n",
              "      const label = document.createElement('label');\n",
              "      label.textContent = `Downloading \"${filename}\": `;\n",
              "      div.appendChild(label);\n",
              "      const progress = document.createElement('progress');\n",
              "      progress.max = size;\n",
              "      div.appendChild(progress);\n",
              "      document.body.appendChild(div);\n",
              "\n",
              "      const buffers = [];\n",
              "      let downloaded = 0;\n",
              "\n",
              "      const channel = await google.colab.kernel.comms.open(id);\n",
              "      // Send a message to notify the kernel that we're ready.\n",
              "      channel.send({})\n",
              "\n",
              "      for await (const message of channel.messages) {\n",
              "        // Send a message to notify the kernel that we're ready.\n",
              "        channel.send({})\n",
              "        if (message.buffers) {\n",
              "          for (const buffer of message.buffers) {\n",
              "            buffers.push(buffer);\n",
              "            downloaded += buffer.byteLength;\n",
              "            progress.value = downloaded;\n",
              "          }\n",
              "        }\n",
              "      }\n",
              "      const blob = new Blob(buffers, {type: 'application/binary'});\n",
              "      const a = document.createElement('a');\n",
              "      a.href = window.URL.createObjectURL(blob);\n",
              "      a.download = filename;\n",
              "      div.appendChild(a);\n",
              "      a.click();\n",
              "      div.remove();\n",
              "    }\n",
              "  "
            ]
          },
          "metadata": {}
        },
        {
          "output_type": "display_data",
          "data": {
            "text/plain": [
              "<IPython.core.display.Javascript object>"
            ],
            "application/javascript": [
              "download(\"download_cf5ae026-b61c-432d-8070-ffd60e2cc69c\", \"apple_music_links.json\", 6501)"
            ]
          },
          "metadata": {}
        },
        {
          "output_type": "display_data",
          "data": {
            "text/plain": [
              "<IPython.core.display.Javascript object>"
            ],
            "application/javascript": [
              "\n",
              "    async function download(id, filename, size) {\n",
              "      if (!google.colab.kernel.accessAllowed) {\n",
              "        return;\n",
              "      }\n",
              "      const div = document.createElement('div');\n",
              "      const label = document.createElement('label');\n",
              "      label.textContent = `Downloading \"${filename}\": `;\n",
              "      div.appendChild(label);\n",
              "      const progress = document.createElement('progress');\n",
              "      progress.max = size;\n",
              "      div.appendChild(progress);\n",
              "      document.body.appendChild(div);\n",
              "\n",
              "      const buffers = [];\n",
              "      let downloaded = 0;\n",
              "\n",
              "      const channel = await google.colab.kernel.comms.open(id);\n",
              "      // Send a message to notify the kernel that we're ready.\n",
              "      channel.send({})\n",
              "\n",
              "      for await (const message of channel.messages) {\n",
              "        // Send a message to notify the kernel that we're ready.\n",
              "        channel.send({})\n",
              "        if (message.buffers) {\n",
              "          for (const buffer of message.buffers) {\n",
              "            buffers.push(buffer);\n",
              "            downloaded += buffer.byteLength;\n",
              "            progress.value = downloaded;\n",
              "          }\n",
              "        }\n",
              "      }\n",
              "      const blob = new Blob(buffers, {type: 'application/binary'});\n",
              "      const a = document.createElement('a');\n",
              "      a.href = window.URL.createObjectURL(blob);\n",
              "      a.download = filename;\n",
              "      div.appendChild(a);\n",
              "      a.click();\n",
              "      div.remove();\n",
              "    }\n",
              "  "
            ]
          },
          "metadata": {}
        },
        {
          "output_type": "display_data",
          "data": {
            "text/plain": [
              "<IPython.core.display.Javascript object>"
            ],
            "application/javascript": [
              "download(\"download_5e6208a7-4d77-4a83-9954-dc1d6c26ac93\", \"apple_music_urls.txt\", 2998)"
            ]
          },
          "metadata": {}
        }
      ]
    }
  ]
}